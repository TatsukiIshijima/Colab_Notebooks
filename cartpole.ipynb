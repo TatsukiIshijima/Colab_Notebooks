{
  "nbformat": 4,
  "nbformat_minor": 0,
  "metadata": {
    "colab": {
      "name": "cartpole.ipynb",
      "provenance": [],
      "collapsed_sections": [],
      "authorship_tag": "ABX9TyP1Ppgk0DAY3WYsu0saFFzv",
      "include_colab_link": true
    },
    "kernelspec": {
      "name": "python3",
      "display_name": "Python 3"
    }
  },
  "cells": [
    {
      "cell_type": "markdown",
      "metadata": {
        "id": "view-in-github",
        "colab_type": "text"
      },
      "source": [
        "<a href=\"https://colab.research.google.com/github/TatsukiIshijima/Colab_Notebooks/blob/main/cartpole.ipynb\" target=\"_parent\"><img src=\"https://colab.research.google.com/assets/colab-badge.svg\" alt=\"Open In Colab\"/></a>"
      ]
    },
    {
      "cell_type": "markdown",
      "metadata": {
        "id": "Z2gxpZqzd36G"
      },
      "source": [
        "# OpenAI Gym で CartPole を試す"
      ]
    },
    {
      "cell_type": "markdown",
      "metadata": {
        "id": "u22IBUoaeuO9"
      },
      "source": [
        "\n",
        "### OpenAI Gym の確認"
      ]
    },
    {
      "cell_type": "code",
      "metadata": {
        "colab": {
          "base_uri": "https://localhost:8080/"
        },
        "id": "9XvtCN0RdR2-",
        "outputId": "717bb7af-f73f-47ca-9aa7-84a3920e0dfb"
      },
      "source": [
        "import gym\n",
        "print(gym.__version__)"
      ],
      "execution_count": null,
      "outputs": [
        {
          "output_type": "stream",
          "text": [
            "0.17.3\n"
          ],
          "name": "stdout"
        }
      ]
    },
    {
      "cell_type": "markdown",
      "metadata": {
        "id": "LGe1Ro8AeifM"
      },
      "source": [
        "### OpenAI Gym の描画準備\n",
        "`pyvirtualdisplay` と `python-opengl` のインストール"
      ]
    },
    {
      "cell_type": "code",
      "metadata": {
        "colab": {
          "base_uri": "https://localhost:8080/"
        },
        "id": "lbvDMTsCeqIG",
        "outputId": "2ae63717-7da7-499e-de67-fe5c0fdde6b3"
      },
      "source": [
        "!pip install pyvirtualdisplay\n",
        "!apt install -y xvfb python-opengl ffmpeg"
      ],
      "execution_count": null,
      "outputs": [
        {
          "output_type": "stream",
          "text": [
            "Requirement already satisfied: pyvirtualdisplay in /usr/local/lib/python3.6/dist-packages (2.0)\n",
            "Requirement already satisfied: EasyProcess in /usr/local/lib/python3.6/dist-packages (from pyvirtualdisplay) (0.3)\n",
            "Reading package lists... Done\n",
            "Building dependency tree       \n",
            "Reading state information... Done\n",
            "python-opengl is already the newest version (3.1.0+dfsg-1).\n",
            "ffmpeg is already the newest version (7:3.4.8-0ubuntu0.2).\n",
            "xvfb is already the newest version (2:1.19.6-1ubuntu4.8).\n",
            "0 upgraded, 0 newly installed, 0 to remove and 13 not upgraded.\n"
          ],
          "name": "stdout"
        }
      ]
    },
    {
      "cell_type": "markdown",
      "metadata": {
        "id": "JYKKFfSqgv1V"
      },
      "source": [
        "描画用の関数を追加"
      ]
    },
    {
      "cell_type": "code",
      "metadata": {
        "id": "pfBBIu04g1M7"
      },
      "source": [
        "import gym\n",
        "from gym.wrappers import Monitor\n",
        "import glob\n",
        "import io\n",
        "import base64\n",
        "from IPython.display import HTML\n",
        "from pyvirtualdisplay import Display\n",
        "from IPython import display as ipythondisplay\n",
        "\n",
        "display = Display(visible=0, size=(1400, 900))\n",
        "display.start()\n",
        "\n",
        "\"\"\"\n",
        "Utility functions to enable video recording of gym environment \n",
        "and displaying it.\n",
        "To enable video, just do \"env = wrap_env(env)\"\"\n",
        "\"\"\"\n",
        "\n",
        "def show_video():\n",
        "    mp4list = glob.glob('video/*.mp4')\n",
        "    if len(mp4list) > 0:\n",
        "        mp4 = mp4list[0]\n",
        "        video = io.open(mp4, 'r+b').read()\n",
        "        encoded = base64.b64encode(video)\n",
        "        ipythondisplay.display(HTML(data='''<video alt=\"test\" autoplay \n",
        "                    loop controls style=\"height: 400px;\">\n",
        "                    <source src=\"data:video/mp4;base64,{0}\" type=\"video/mp4\" />\n",
        "                </video>'''.format(encoded.decode('ascii'))))\n",
        "    else: \n",
        "        print(\"Could not find video\")\n",
        "\n",
        "\n",
        "def wrap_env(env):\n",
        "    env = Monitor(env, './video', force=True)\n",
        "    return env"
      ],
      "execution_count": null,
      "outputs": []
    },
    {
      "cell_type": "markdown",
      "metadata": {
        "id": "2Q8h6Br5hPOi"
      },
      "source": [
        "ランダムに動かした Gym の環境描画してみる"
      ]
    },
    {
      "cell_type": "code",
      "metadata": {
        "colab": {
          "base_uri": "https://localhost:8080/",
          "height": 761
        },
        "id": "Axiz6WDIhO3_",
        "outputId": "a1ac5fce-dbae-400a-9e97-0b7d77c2b313"
      },
      "source": [
        "env = wrap_env(gym.make('CartPole-v1'))\n",
        "\n",
        "for episode in range(20):\n",
        "    observation = env.reset()\n",
        "\n",
        "    for step in range(100):\n",
        "    \n",
        "        env.render()    \n",
        "        action = env.action_space.sample() \n",
        "        observation, reward, done, info = env.step(action) \n",
        "    \n",
        "        if done: \n",
        "            break;\n",
        "    \n",
        "    print('Episode {0} finished after {1} timesteps'.format(episode+1, step+1))\n",
        "            \n",
        "env.close()\n",
        "show_video()"
      ],
      "execution_count": null,
      "outputs": [
        {
          "output_type": "stream",
          "text": [
            "Episode 1 finished after 10 timesteps\n",
            "Episode 2 finished after 13 timesteps\n",
            "Episode 3 finished after 15 timesteps\n",
            "Episode 4 finished after 19 timesteps\n",
            "Episode 5 finished after 29 timesteps\n",
            "Episode 6 finished after 21 timesteps\n",
            "Episode 7 finished after 21 timesteps\n",
            "Episode 8 finished after 29 timesteps\n",
            "Episode 9 finished after 16 timesteps\n",
            "Episode 10 finished after 16 timesteps\n",
            "Episode 11 finished after 19 timesteps\n",
            "Episode 12 finished after 13 timesteps\n",
            "Episode 13 finished after 15 timesteps\n",
            "Episode 14 finished after 85 timesteps\n",
            "Episode 15 finished after 21 timesteps\n",
            "Episode 16 finished after 11 timesteps\n",
            "Episode 17 finished after 10 timesteps\n",
            "Episode 18 finished after 17 timesteps\n",
            "Episode 19 finished after 30 timesteps\n",
            "Episode 20 finished after 20 timesteps\n"
          ],
          "name": "stdout"
        },
        {
          "output_type": "display_data",
          "data": {
            "text/html": [
              "<video alt=\"test\" autoplay \n",
              "                    loop controls style=\"height: 400px;\">\n",
              "                    <source src=\"data:video/mp4;base64,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\" type=\"video/mp4\" />\n",
              "                </video>"
            ],
            "text/plain": [
              "<IPython.core.display.HTML object>"
            ]
          },
          "metadata": {
            "tags": []
          }
        }
      ]
    },
    {
      "cell_type": "markdown",
      "metadata": {
        "id": "67dk0ab38Df1"
      },
      "source": [
        "### 棒の角度から動く方向を決定するエージェント"
      ]
    },
    {
      "cell_type": "markdown",
      "metadata": {
        "id": "cn_gnorl9g86"
      },
      "source": [
        "CartPole の観測データと行動の定義は [CartPole v0](https://github.com/openai/gym/wiki/CartPole-v0#observation) に記載されている。こちらを確認すると Observation は Box 型で Pole Angle 含まれているのでこれを用いて動く方向（Action）を決める。Action は 0 と 1 のみで 0 のときは台車を左へ移動、1 のときは右となっている"
      ]
    },
    {
      "cell_type": "code",
      "metadata": {
        "colab": {
          "base_uri": "https://localhost:8080/",
          "height": 761
        },
        "id": "lq48pyyT8Ry6",
        "outputId": "cc6f768f-7d23-4116-edca-32f5328bf478"
      },
      "source": [
        "env = wrap_env(gym.make('CartPole-v1'))\n",
        "\n",
        "# ステップ数が長くなったか後にグラフで確認するためにステップ数を保持する\n",
        "steps = []\n",
        "\n",
        "for episode in range(20):\n",
        "    observation = env.reset()\n",
        "\n",
        "    for step in range(200):\n",
        "\n",
        "        env.render()\n",
        "        cart_pos, cart_vel, pole_ang, pole_vel = observation\n",
        "\n",
        "        # 棒の角度が左に倒れそうなら、台車を左へ\n",
        "        if pole_ang < 0:\n",
        "            action = 0\n",
        "        # 棒の角度が右に倒れそうなら、台車を右へ\n",
        "        else:\n",
        "            action = 1\n",
        "\n",
        "        observation, reward, done, info = env.step(action)\n",
        "        \n",
        "        if done:\n",
        "            break\n",
        "        \n",
        "    print('Episode {} finished after {} timesteps'.format(episode+1, step+1))\n",
        "    steps.append(step+1)\n",
        "\n",
        "env.close()\n",
        "show_video()\n"
      ],
      "execution_count": null,
      "outputs": [
        {
          "output_type": "stream",
          "text": [
            "Episode 1 finished after 41 timesteps\n",
            "Episode 2 finished after 45 timesteps\n",
            "Episode 3 finished after 26 timesteps\n",
            "Episode 4 finished after 34 timesteps\n",
            "Episode 5 finished after 38 timesteps\n",
            "Episode 6 finished after 44 timesteps\n",
            "Episode 7 finished after 38 timesteps\n",
            "Episode 8 finished after 52 timesteps\n",
            "Episode 9 finished after 35 timesteps\n",
            "Episode 10 finished after 31 timesteps\n",
            "Episode 11 finished after 51 timesteps\n",
            "Episode 12 finished after 38 timesteps\n",
            "Episode 13 finished after 45 timesteps\n",
            "Episode 14 finished after 35 timesteps\n",
            "Episode 15 finished after 53 timesteps\n",
            "Episode 16 finished after 40 timesteps\n",
            "Episode 17 finished after 62 timesteps\n",
            "Episode 18 finished after 40 timesteps\n",
            "Episode 19 finished after 46 timesteps\n",
            "Episode 20 finished after 41 timesteps\n"
          ],
          "name": "stdout"
        },
        {
          "output_type": "display_data",
          "data": {
            "text/html": [
              "<video alt=\"test\" autoplay \n",
              "                    loop controls style=\"height: 400px;\">\n",
              "                    <source src=\"data:video/mp4;base64,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\" type=\"video/mp4\" />\n",
              "                </video>"
            ],
            "text/plain": [
              "<IPython.core.display.HTML object>"
            ]
          },
          "metadata": {
            "tags": []
          }
        }
      ]
    },
    {
      "cell_type": "code",
      "metadata": {
        "colab": {
          "base_uri": "https://localhost:8080/",
          "height": 279
        },
        "id": "AYtcTCcj_n1S",
        "outputId": "eb61a219-e5cd-47f3-940e-06e3f6d866b0"
      },
      "source": [
        "import matplotlib.pyplot as plt\n",
        "%matplotlib inline\n",
        "\n",
        "plt.figure()\n",
        "plt.plot(steps)\n",
        "plt.xlabel('Episode')\n",
        "plt.ylabel('Step')\n",
        "plt.show()"
      ],
      "execution_count": null,
      "outputs": [
        {
          "output_type": "display_data",
          "data": {
            "image/png": "[encoded data removed]",
            "text/plain": [
              "<Figure size 432x288 with 1 Axes>"
            ]
          },
          "metadata": {
            "tags": [],
            "needs_background": "light"
          }
        }
      ]
    },
    {
      "cell_type": "markdown",
      "metadata": {
        "id": "lE0P257DD8aA"
      },
      "source": [
        "### Q-Learning を用いたエージェント"
      ]
    },
    {
      "cell_type": "markdown",
      "metadata": {
        "id": "L_LSK3OGESkN"
      },
      "source": [
        "観測データ(Observation)は Box 型で4つの要素（Cart Position, Cart Velocity, Pole Angle, Pole Velocity At Tip）を持っている。これらは連続値なので、まずは量子化する。今回はこれらの値を５段階に分けて定義する。"
      ]
    },
    {
      "cell_type": "markdown",
      "metadata": {
        "id": "rne_sJ41E1-t"
      },
      "source": [
        "#### Observation (Type: Box(4))\n",
        "\n",
        "|  要素数 |  名前  | 最小 | 最大 |\n",
        "| :---- | :---- | :---- | :---- |\n",
        "|  0  |  Cart Position  | -2.4 | 2.4 |\n",
        "|  1  |  Cart Velocity  | -inf | inf |\n",
        "|  2  |  Pole Angle  | -41.8° | 41.8° |\n",
        "|  3  |  Pole Velocity At Top  | -inf | inf |"
      ]
    },
    {
      "cell_type": "markdown",
      "metadata": {
        "id": "hiVR5yFvFRvt"
      },
      "source": [
        "#### Observation の量子化\n",
        "以下のように連続値を5つの範囲に分割し、量子化する。Observation の4要素を5つに分割したので状態の数は 5^4 = 625 個あることになる。\n",
        "\n",
        "| 要素 | 0 | 1 | 2 | 3 | 4 |\n",
        "| :---- | :---- | :---- | :---- | :---- | :---- |\n",
        "Cart Position  | Pos < -1.2  | -1.2 <= Pos < -0.2 | -0.2 <= Pos < 0.2 | 0.2 <= Pos < 1.2 | 1.2 <= Pos |\n",
        "Cart Velocity  | Vec < -1.5  | -1.5 <= Vec < -0.2 | -0.2 <= Vec < 0.2 | 0.2 <= Vec < 1.5 | 1.5 <= Vec |\n",
        "Pole Angle | Ang < -0.25  | -0.25 <= Ang < -0.02 | -0.02 <= Ang < 0.02 | 0.2 <= Ang < 0.25 | 0.25 <= Ang |\n",
        "Pole Velocity At Tip  | P < -1.0  | -1.0 <= P < -0.2 | -0.2 <= P < 0.2 | 0.2 <= P < 1.0 | 1.0 <= P |"
      ]
    },
    {
      "cell_type": "markdown",
      "metadata": {
        "id": "Ixbr6_ugHP9f"
      },
      "source": [
        "#### Q-Learning\n",
        "状態数が 625 個で起こす行動（Action）は左(0)か右の(1)の2択。よって、Q-table (Q(s, a))は (625, 2) の行列で表せる。これは状態と行動が関連付けられていることを示し、この行列の各値がある状態の時にある行動の選ばれやすさを示す。Q-Learning はこの行動の選ばれやすさの値を更新していく学習方法。  \n",
        "\n",
        "$$ Q(s_t, a_t) = Q(s_t, a_t) + η(R_{t+1} + γ max Q(s_{t+1}, a) - Q(s_t, a_t)) $$\n",
        "  \n",
        "η：学習係数（定数）\n",
        "γ：割引率（定数）\n",
        "R：報酬\n"
      ]
    },
    {
      "cell_type": "markdown",
      "metadata": {
        "id": "4ewOnP1yRdze"
      },
      "source": [
        "#### ε-greddy法\n",
        "Q-table の各値（Q値）が正しく決まっていない状態で、行動の選ばれやすさ（Q値）が大きい方を選ぶという試行だと、Q-table の初期値に依存してしまうため学習がうまく進まない問題がある。そこで適当な閾値（ε）を決め、行動選択の時に 0~1 の乱数を生成し、この乱数がε以下であればランダムに行動を選択する。εより大きければQ値が大きい方の行動を選択するという方法をとることで対応する。なお、εはエピソードが増えるごとに小さくなるよう設定する。"
      ]
    },
    {
      "cell_type": "markdown",
      "metadata": {
        "id": "xw6fqc-G2TOw"
      },
      "source": [
        "エージェントの作成"
      ]
    },
    {
      "cell_type": "code",
      "metadata": {
        "id": "Um7u4DUoLebX"
      },
      "source": [
        "import numpy as np\n",
        "import random\n",
        "\n",
        "class Agent:\n",
        "    def __init__(self):\n",
        "        # Q-table\n",
        "        self.__Q = np.zeros((5**4, 2))\n",
        "        # 最後の状態\n",
        "        self.__last_s = None\n",
        "        # 最後の行動\n",
        "        self.__last_a = None\n",
        "        # 学習係数\n",
        "        self.__eta = 0.2\n",
        "        # 割引率\n",
        "        self.__gamma = 0.99\n",
        "\n",
        "    def quantize5(self, x, a, b):\n",
        "        \"\"\"\n",
        "        量子化（５段階）\n",
        "        \"\"\"\n",
        "        return 0 if x < -a else 1 if x < -b else \\\n",
        "            2 if x <= b else 3 if x <= a else 4\n",
        "        \n",
        "    def quantize(self, observation):\n",
        "        \"\"\"\n",
        "        量子化した変数をまとめて一つの値に変換する\n",
        "        5段階に量子化した場合は5進数の値（0~624）に変換する\n",
        "        \"\"\"\n",
        "        pos = self.quantize5(observation[0], 1.2, 0.2)\n",
        "        vel = self.quantize5(observation[1], 1.5, 0.2)\n",
        "        ang = self.quantize5(observation[2], 0.25, 0.02)\n",
        "        acc = self.quantize5(observation[3], 1.0, 0.2)\n",
        "        return pos  * pow(5, 0) + vel * pow(5, 1) + ang * pow(5, 2) + acc * pow(5, 3)\n",
        "\n",
        "    def action(self, observation, episode, reward):\n",
        "        \"\"\"\n",
        "        Q学習により行動を決める\n",
        "\n",
        "        Parameters\n",
        "        ----------------\n",
        "        observation : 観測データ\n",
        "        episode : エピソード数\n",
        "        reward : 報酬\n",
        "        \"\"\"\n",
        "        s = self.quantize(observation)\n",
        "        #ε-greedy法\n",
        "        # エピソードが増えるにつれ、小さくなる閾値変数(ε)\n",
        "        epsilon = 0.5 * (1 / (episode + 1))\n",
        "        # 閾値より大きい場合はある状態(s)の時にQ値が大きい行動をとる\n",
        "        # 閾値以下場合はランダムで行動をとる（左 or 右）\n",
        "        if random.random() > epsilon:\n",
        "            a = np.argmax(self.__Q[s, :])\n",
        "        else:\n",
        "            a = random.randint(0, 1)\n",
        "\n",
        "        # Q値の更新\n",
        "        if self.__last_s is not None:\n",
        "            q = self.__Q[self.__last_s, self.__last_a]\n",
        "            self.__Q[self.__last_s, self.__last_a] = \\\n",
        "                q + self.__eta * (reward + self.__gamma * np.max(self.__Q[s, :]) - q)\n",
        "        self.__last_s = s\n",
        "        self.__last_a = a\n",
        "        return a"
      ],
      "execution_count": null,
      "outputs": []
    },
    {
      "cell_type": "markdown",
      "metadata": {
        "id": "e1lgrPMD2Xwd"
      },
      "source": [
        "実際に学習させてみる"
      ]
    },
    {
      "cell_type": "code",
      "metadata": {
        "colab": {
          "base_uri": "https://localhost:8080/",
          "height": 761
        },
        "id": "agrekW4QxfHy",
        "outputId": "ebf14313-df56-4499-8f68-426410a88bd5"
      },
      "source": [
        "env = wrap_env(gym.make('CartPole-v1'))\n",
        "# CartPole-v1 のデフォルトのステップ数に達する前に env.reset を呼ぶとエラーになるので\n",
        "# ステップ数を新たに指定し、done のフラグをステップ数が終わった時に返されるようにする\n",
        "env.spec.max_episode_steps = 200\n",
        "\n",
        "agent = Agent()\n",
        "\n",
        "steps = []\n",
        "for episode in range(20):\n",
        "    observation = env.reset()\n",
        "\n",
        "    reward = 0\n",
        "    for step in range(200):\n",
        "        #env.render()\n",
        "        action = agent.action(observation, episode, reward)\n",
        "        observation, reward, done, info = env.step(action)\n",
        "        # 終了してしまったら、報酬を低くする\n",
        "        if done:\n",
        "            agent.action(observation, episode, -200)\n",
        "            break\n",
        "    \n",
        "    print('Episode {} finished after {} timesteps'.format(episode+1, step+1))\n",
        "    steps.append(step+1)\n",
        "\n",
        "env.close()\n",
        "show_video()"
      ],
      "execution_count": null,
      "outputs": [
        {
          "output_type": "stream",
          "text": [
            "Episode 1 finished after 8 timesteps\n",
            "Episode 2 finished after 11 timesteps\n",
            "Episode 3 finished after 8 timesteps\n",
            "Episode 4 finished after 21 timesteps\n",
            "Episode 5 finished after 33 timesteps\n",
            "Episode 6 finished after 36 timesteps\n",
            "Episode 7 finished after 62 timesteps\n",
            "Episode 8 finished after 54 timesteps\n",
            "Episode 9 finished after 79 timesteps\n",
            "Episode 10 finished after 52 timesteps\n",
            "Episode 11 finished after 82 timesteps\n",
            "Episode 12 finished after 111 timesteps\n",
            "Episode 13 finished after 103 timesteps\n",
            "Episode 14 finished after 71 timesteps\n",
            "Episode 15 finished after 109 timesteps\n",
            "Episode 16 finished after 130 timesteps\n",
            "Episode 17 finished after 120 timesteps\n",
            "Episode 18 finished after 112 timesteps\n",
            "Episode 19 finished after 133 timesteps\n",
            "Episode 20 finished after 130 timesteps\n"
          ],
          "name": "stdout"
        },
        {
          "output_type": "display_data",
          "data": {
            "text/html": [
              "<video alt=\"test\" autoplay \n",
              "                    loop controls style=\"height: 400px;\">\n",
              "                    <source src=\"data:video/mp4;base64,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\" type=\"video/mp4\" />\n",
              "                </video>"
            ],
            "text/plain": [
              "<IPython.core.display.HTML object>"
            ]
          },
          "metadata": {
            "tags": []
          }
        }
      ]
    },
    {
      "cell_type": "code",
      "metadata": {
        "colab": {
          "base_uri": "https://localhost:8080/",
          "height": 279
        },
        "id": "PP8itky41VQV",
        "outputId": "8e4f462c-9114-40f6-b5ef-81b99d6a0112"
      },
      "source": [
        "import matplotlib.pyplot as plt\n",
        "%matplotlib inline\n",
        "\n",
        "plt.figure()\n",
        "plt.plot(steps)\n",
        "plt.xlabel('Episode')\n",
        "plt.ylabel('Step')\n",
        "plt.show()"
      ],
      "execution_count": null,
      "outputs": [
        {
          "output_type": "display_data",
          "data": {
            "image/png": "[encoded data removed]",
            "text/plain": [
              "<Figure size 432x288 with 1 Axes>"
            ]
          },
          "metadata": {
            "tags": [],
            "needs_background": "light"
          }
        }
      ]
    },
    {
      "cell_type": "markdown",
      "metadata": {
        "id": "ywboAFIy2ikd"
      },
      "source": [
        "### まとめ\n",
        "以下３パターンで CartPole 問題を実践してみた。ランダムの場合はステップ毎の乱数に依存するため、 CartPole 問題を長く続けることは不可能であった。棒の角度から行動を決めるパターンでは、ランダムよりかは長く続けることは可能であるが、ある一定の期間までしか対応できなかった。Q-Learning を用いた場合では状態に応じて行動を決めるため、棒を倒さずに CartPole を続けることが可能だった。\n",
        "\n",
        "- ランダムで台車の動く方向（左か右の行動）を決めてみる\n",
        "- 棒の角度から台車の動く方向（左か右の行動）を決めてみる\n",
        "- Q-Learning を用いてある状態に対しての行動を学習し、台車の動く方向を決めてみる（左か右の行動）"
      ]
    }
  ]
}